{
  "nbformat": 4,
  "nbformat_minor": 0,
  "metadata": {
    "colab": {
      "provenance": []
    },
    "kernelspec": {
      "name": "python3",
      "display_name": "Python 3"
    },
    "language_info": {
      "name": "python"
    }
  },
  "cells": [
    {
      "cell_type": "markdown",
      "source": [
        "1. In Python, what is the difference between a built-in function and a user-defined function? Provide an\n",
        "example of each."
      ],
      "metadata": {
        "id": "o5A6QRiWb5wg"
      }
    },
    {
      "cell_type": "markdown",
      "source": [
        "Built-in Function:\n",
        "\n",
        "* Built-in functions are part of the Python standard library and are available for use without requiring additional definitions.\n",
        "Example:"
      ],
      "metadata": {
        "id": "wFbNxLy1cNZP"
      }
    },
    {
      "cell_type": "code",
      "source": [
        "# Using the built-in len() function to find the length of a list\n",
        "my_list = [1, 2, 3, 4, 5]\n",
        "length = len(my_list)\n",
        "print(length)\n"
      ],
      "metadata": {
        "colab": {
          "base_uri": "https://localhost:8080/"
        },
        "id": "sfycAHOfcd7D",
        "outputId": "4059a18d-1199-4623-db04-8f9ba79ef362"
      },
      "execution_count": 2,
      "outputs": [
        {
          "output_type": "stream",
          "name": "stdout",
          "text": [
            "5\n"
          ]
        }
      ]
    },
    {
      "cell_type": "markdown",
      "source": [
        "User-defined Function:\n",
        "\n",
        "* User-defined functions are created by the programmer to perform specific tasks and require explicit definition.\n",
        "Example:"
      ],
      "metadata": {
        "id": "B4W-Xdy7cjMP"
      }
    },
    {
      "cell_type": "code",
      "source": [
        "# Defining a user-defined function to calculate the square of a number\n",
        "def square_number(x):\n",
        "    return x ** 2\n",
        "\n",
        "result = square_number(4)\n",
        "print(result)\n"
      ],
      "metadata": {
        "colab": {
          "base_uri": "https://localhost:8080/"
        },
        "id": "qOA5KVs4cqVq",
        "outputId": "b967a52c-8b85-4911-d995-6f7932ab93cb"
      },
      "execution_count": 3,
      "outputs": [
        {
          "output_type": "stream",
          "name": "stdout",
          "text": [
            "16\n"
          ]
        }
      ]
    },
    {
      "cell_type": "markdown",
      "source": [],
      "metadata": {
        "id": "ShEVfvh2cu_y"
      }
    },
    {
      "cell_type": "markdown",
      "source": [
        "2. How can you pass arguments to a function in Python? Explain the difference between positional\n",
        "arguments and keyword arguments."
      ],
      "metadata": {
        "id": "3NUrZ0IgcvDX"
      }
    },
    {
      "cell_type": "markdown",
      "source": [
        "* The primary distinction lies in how the arguments are provided during the function call.\n",
        "* For positional arguments, the order matters, and each argument is associated with the corresponding parameter based on position.\n",
        "* Keyword arguments, on the other hand, explicitly associate values with parameter names, allowing for flexibility in the order of presentation.\n",
        "\n",
        "In short, while positional arguments rely on the order of appearance, keyword arguments use parameter names for explicit assignment. It's common to use a combination of both in function calls depending on the requirements."
      ],
      "metadata": {
        "id": "8MGTh3K3cyrM"
      }
    },
    {
      "cell_type": "markdown",
      "source": [
        "3. What is the purpose of the return statement in a function? Can a function have multiple return\n",
        "statements? Explain with an example."
      ],
      "metadata": {
        "id": "ysgC6zAQdfYo"
      }
    },
    {
      "cell_type": "markdown",
      "source": [
        "Purpose of the return statement:\n",
        "\n",
        "* It specifies the value a function should return.\n",
        "* A function can have multiple return statements, but only one is executed.\n",
        "Example:"
      ],
      "metadata": {
        "id": "ghNx6KoFdUW0"
      }
    },
    {
      "cell_type": "code",
      "source": [
        "def divide_numbers(a, b):\n",
        "    if b == 0:\n",
        "        return \"Error: Cannot divide by zero\"  # First return statement for a specific condition\n",
        "    else:\n",
        "        result = a / b\n",
        "        return result  # Second return statement for the general case\n",
        "\n",
        "# Function calls\n",
        "result1 = divide_numbers(10, 2)\n",
        "print(result1)  # Output: 5.0\n",
        "\n",
        "result2 = divide_numbers(8, 0)\n",
        "print(result2)  # Output: Error: Cannot divide by zero\n"
      ],
      "metadata": {
        "colab": {
          "base_uri": "https://localhost:8080/"
        },
        "id": "7qdfVdtLd3q_",
        "outputId": "801f2443-eed8-4915-c1dd-2659d01da3cb"
      },
      "execution_count": 5,
      "outputs": [
        {
          "output_type": "stream",
          "name": "stdout",
          "text": [
            "5.0\n",
            "Error: Cannot divide by zero\n"
          ]
        }
      ]
    },
    {
      "cell_type": "markdown",
      "source": [
        "4. What are lambda functions in Python? How are they different from regular functions? Provide an\n",
        "example where a lambda function can be useful."
      ],
      "metadata": {
        "id": "Zr31LNPId7Di"
      }
    },
    {
      "cell_type": "markdown",
      "source": [
        "Lambda functions in Python are anonymous functions created using the lambda keyword. Unlike regular functions defined with the def keyword, lambda functions are concise and typically used for short-term operations. Lambda functions can take any number of arguments but can only have one expression.\n",
        "\n",
        "Syntax of a Lambda Function:"
      ],
      "metadata": {
        "id": "9Nl3fHG3eEiL"
      }
    },
    {
      "cell_type": "code",
      "source": [
        "lambda arguments: expression\n",
        "\n"
      ],
      "metadata": {
        "colab": {
          "base_uri": "https://localhost:8080/"
        },
        "id": "zkNGCmt2eNJi",
        "outputId": "b4a81e1d-0961-4191-f643-a156ed6e1f24"
      },
      "execution_count": 6,
      "outputs": [
        {
          "output_type": "execute_result",
          "data": {
            "text/plain": [
              "<function __main__.<lambda>(arguments)>"
            ]
          },
          "metadata": {},
          "execution_count": 6
        }
      ]
    },
    {
      "cell_type": "markdown",
      "source": [
        "Differences from Regular Functions:\n",
        "\n",
        "* Anonymous: Lambda functions are anonymous, meaning they don't have a name like regular functions.\n",
        "* Single Expression: Lambda functions can only contain a single expression, making them suitable for simple operations.\n",
        "* Conciseness: Lambda functions are often used for quick, one-time operations, promoting code conciseness.\n",
        "Example where a Lambda Function can be Useful:"
      ],
      "metadata": {
        "id": "bwnmHLfoeVty"
      }
    },
    {
      "cell_type": "code",
      "source": [
        "# Regular function to square a number\n",
        "def square(x):\n",
        "    return x ** 2\n",
        "\n",
        "# Equivalent lambda function\n",
        "square_lambda = lambda x: x ** 2\n",
        "\n",
        "# Using lambda function in a list comprehension\n",
        "numbers = [1, 2, 3, 4, 5]\n",
        "squared_numbers = list(map(lambda x: x ** 2, numbers))\n",
        "\n",
        "print(squared_numbers)\n"
      ],
      "metadata": {
        "colab": {
          "base_uri": "https://localhost:8080/"
        },
        "id": "Y1iP9IzSedf2",
        "outputId": "7fe2ea4c-2d09-499a-c0e3-1ba2eb3c0b4a"
      },
      "execution_count": 7,
      "outputs": [
        {
          "output_type": "stream",
          "name": "stdout",
          "text": [
            "[1, 4, 9, 16, 25]\n"
          ]
        }
      ]
    },
    {
      "cell_type": "markdown",
      "source": [
        "In this example, both the regular function square() and the lambda function square_lambda perform the same operation—squaring a given number. The lambda function is used within a map() function to create a new list of squared numbers from the original list. This showcases the concise and inline nature of lambda functions, particularly when used for short operations within higher-order functions like map or filter."
      ],
      "metadata": {
        "id": "6ln7LXi2ecwE"
      }
    },
    {
      "cell_type": "markdown",
      "source": [
        "5. How does the concept of \"scope\" apply to functions in Python? Explain the difference between local\n",
        "scope and global scope."
      ],
      "metadata": {
        "id": "pxAXd6FYet6q"
      }
    },
    {
      "cell_type": "markdown",
      "source": [
        "Scope in functions:\n",
        "\n",
        "Local scope: Variables defined within a function are accessible only within that function.\n",
        "Global scope: Variables defined outside any function are accessible throughout the program."
      ],
      "metadata": {
        "id": "keDevO7Re4MB"
      }
    },
    {
      "cell_type": "markdown",
      "source": [
        "6. How can you use the \"return\" statement in a Python function to return multiple values?"
      ],
      "metadata": {
        "id": "xCMistIHe7VP"
      }
    },
    {
      "cell_type": "markdown",
      "source": [
        "The 'return' statement to return multiple values from a Python function by separating the values with commas. These values are then returned as a tuple."
      ],
      "metadata": {
        "id": "FCF0B8E4fFZP"
      }
    },
    {
      "cell_type": "code",
      "source": [
        "def multiple_values():\n",
        "    x = 10\n",
        "    y = 20\n",
        "    z = 30\n",
        "    return x, y, z\n",
        "\n",
        "# Function call\n",
        "result = multiple_values()\n",
        "print(result)  # Output: (10, 20, 30)\n"
      ],
      "metadata": {
        "colab": {
          "base_uri": "https://localhost:8080/"
        },
        "id": "4UAyH9DMfPgA",
        "outputId": "af468fb7-1e9a-4923-9473-9069f7c91ea6"
      },
      "execution_count": 8,
      "outputs": [
        {
          "output_type": "stream",
          "name": "stdout",
          "text": [
            "(10, 20, 30)\n"
          ]
        }
      ]
    },
    {
      "cell_type": "markdown",
      "source": [
        "In this example, the function multiple_values returns three values (x, y, and z) as a tuple. The caller can capture these values as a single tuple when the function is invoked."
      ],
      "metadata": {
        "id": "OlI3VQLSfFfP"
      }
    },
    {
      "cell_type": "markdown",
      "source": [
        "7. What is the difference between the \"pass by value\" and \"pass by reference\" concepts when it\n",
        "comes to function arguments in Python?"
      ],
      "metadata": {
        "id": "c55BnI1HfYyq"
      }
    },
    {
      "cell_type": "markdown",
      "source": [
        "Pass by value vs. pass by reference:\n",
        "\n",
        "* In Python, arguments are passed by object reference, but the value/reference itself is passed.\n",
        "* Mutability of objects can affect whether changes made to parameters inside a function persist outside."
      ],
      "metadata": {
        "id": "Wd0Wjouoffvi"
      }
    },
    {
      "cell_type": "markdown",
      "source": [
        "8. Create a function that can intake integer or decimal value and do following operations:\n",
        "\n",
        "a. Logarithmic function (log x)\n",
        "\n",
        "b. Exponential function (exp(x))\n",
        "\n",
        "c. Power function with base 2 (2^x)\n",
        "\n",
        "d. Square root"
      ],
      "metadata": {
        "id": "JLxW9UT0fmIy"
      }
    },
    {
      "cell_type": "code",
      "source": [
        "import math\n",
        "\n",
        "def math_operations(x):\n",
        "    # Logarithmic function (log x)\n",
        "    logarithmic_result = math.log(x)\n",
        "\n",
        "    # Exponential function (exp(x))\n",
        "    exponential_result = math.exp(x)\n",
        "\n",
        "    # Power function with base 2 (2^x)\n",
        "    power_of_2_result = 2 ** x\n",
        "\n",
        "    # Square root\n",
        "    square_root_result = math.sqrt(x)\n",
        "\n",
        "    return logarithmic_result, exponential_result, power_of_2_result, square_root_result\n",
        "\n",
        "# Example usage\n",
        "number = 4.0\n",
        "result = math_operations(number)\n",
        "\n",
        "print(f\"Logarithmic result: {result[0]}\")\n",
        "print(f\"Exponential result: {result[1]}\")\n",
        "print(f\"Power of 2 result: {result[2]}\")\n",
        "print(f\"Square root result: {result[3]}\")\n"
      ],
      "metadata": {
        "colab": {
          "base_uri": "https://localhost:8080/"
        },
        "id": "3gJNI4Jzf4XF",
        "outputId": "9cdd424f-2dec-410e-a52e-c385d3820d79"
      },
      "execution_count": 9,
      "outputs": [
        {
          "output_type": "stream",
          "name": "stdout",
          "text": [
            "Logarithmic result: 1.3862943611198906\n",
            "Exponential result: 54.598150033144236\n",
            "Power of 2 result: 16.0\n",
            "Square root result: 2.0\n"
          ]
        }
      ]
    },
    {
      "cell_type": "markdown",
      "source": [
        "9. Create a function that takes a full name as an argument and returns first name and last name."
      ],
      "metadata": {
        "id": "58wMgAsZgar5"
      }
    },
    {
      "cell_type": "code",
      "source": [
        "def names(full_name):\n",
        "    # Splitting the full name into a list of words\n",
        "    name_parts = full_name.split()\n",
        "\n",
        "    # Extracting the first and last names\n",
        "    if len(name_parts) >= 2:\n",
        "        first_name = name_parts[0]\n",
        "        last_name = ' '.join(name_parts[1:])\n",
        "    else:\n",
        "        # If only one name is provided, consider it as the first name\n",
        "        first_name = full_name\n",
        "        last_name = ''\n",
        "\n",
        "    return first_name, last_name\n",
        "\n",
        "# Example usage\n",
        "full_name = \"Priyanka harsh\"\n",
        "first, last = names(full_name)\n",
        "\n",
        "print(f\"First Name: {first}\")\n",
        "print(f\"Last Name: {last}\")\n"
      ],
      "metadata": {
        "colab": {
          "base_uri": "https://localhost:8080/"
        },
        "id": "d0vcu0pUd6CW",
        "outputId": "3755a1ed-db8a-46cd-f0e6-02a64faa5b96"
      },
      "execution_count": 10,
      "outputs": [
        {
          "output_type": "stream",
          "name": "stdout",
          "text": [
            "First Name: Priyanka\n",
            "Last Name: harsh\n"
          ]
        }
      ]
    }
  ]
}